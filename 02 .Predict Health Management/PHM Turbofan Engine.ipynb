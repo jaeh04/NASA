{
  "cells": [
    {
      "cell_type": "markdown",
      "metadata": {
        "id": "l5jZ2M5eU4ie"
      },
      "source": [
        "# Prognostics and Health Management NASA Turbofan Engine"
      ]
    },
    {
      "cell_type": "markdown",
      "metadata": {
        "id": "uKr5XBon_pm2"
      },
      "source": [
        "##### test 중 "
      ]
    },
    {
      "cell_type": "code",
      "execution_count": 1,
      "metadata": {},
      "outputs": [],
      "source": [
        "import pandas as pd\n",
        "import numpy as np\n",
        "from pathlib import Path\n",
        "from pathlib import PurePath\n",
        "from pandas import DataFrame \n",
        "import xlwings as xw\n",
        "import xlsxwriter"
      ]
    },
    {
      "cell_type": "markdown",
      "metadata": {},
      "source": [
        "# # 1개\n",
        "## # 2개\n",
        "### # 3개\n",
        "#### # 4개\n",
        "##### # 5개\n",
        "###### # 6개\n",
        "\n",
        "- Hello World  (맨 앞에 -를 넣으면 )\n",
        "\n",
        "테이블 작성방법\n",
        "\n",
        "이름|나이\n",
        "--------|--------\n",
        "홍길동|51세\n",
        "이순신|70세\n",
        "\n",
        "수식 입력방법\n",
        "\n",
        "$ a^2 + b^2 = c^2 $  (수식 앞뒤로 $기호를 넣으면 됨)\n",
        "\n",
        "sqrt(4) = 2를 수식으로 나타내면 $\\sqrt(4) = 2$가 된다.   (루트기호를 표시하려면 '\\sqrt'라고 입력하면 됨)\n",
        "\n"
      ]
    }
  ],
  "metadata": {
    "colab": {
      "collapsed_sections": [],
      "name": "NASA Turbofan Engine Data Visualization.ipynb",
      "provenance": []
    },
    "kernelspec": {
      "display_name": "Python 3",
      "name": "python3"
    },
    "language_info": {
      "codemirror_mode": {
        "name": "ipython",
        "version": 3
      },
      "file_extension": ".py",
      "mimetype": "text/x-python",
      "name": "python",
      "nbconvert_exporter": "python",
      "pygments_lexer": "ipython3",
      "version": "3.9.7"
    }
  },
  "nbformat": 4,
  "nbformat_minor": 0
}
