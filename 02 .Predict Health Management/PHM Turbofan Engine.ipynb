{
  "cells": [
    {
      "cell_type": "markdown",
      "metadata": {
        "id": "l5jZ2M5eU4ie"
      },
      "source": [
        "# Prognostics and Health Management NASA Turbofan Engine"
      ]
    },
    {
      "cell_type": "markdown",
      "metadata": {
        "id": "uKr5XBon_pm2"
      },
      "source": [
        "##### test 중 "
      ]
    },
    {
      "cell_type": "code",
      "execution_count": 1,
      "metadata": {},
      "outputs": [],
      "source": [
        "import pandas as pd\n",
        "import numpy as np\n",
        "from pathlib import Path\n",
        "from pathlib import PurePath\n",
        "from pandas import DataFrame #\n",
        "import xlwings as xw\n",
        "import xlsxwriter"
      ]
    }
  ],
  "metadata": {
    "colab": {
      "collapsed_sections": [],
      "name": "NASA Turbofan Engine Data Visualization.ipynb",
      "provenance": []
    },
    "kernelspec": {
      "display_name": "Python 3",
      "name": "python3"
    },
    "language_info": {
      "codemirror_mode": {
        "name": "ipython",
        "version": 3
      },
      "file_extension": ".py",
      "mimetype": "text/x-python",
      "name": "python",
      "nbconvert_exporter": "python",
      "pygments_lexer": "ipython3",
      "version": "3.9.7"
    }
  },
  "nbformat": 4,
  "nbformat_minor": 0
}
